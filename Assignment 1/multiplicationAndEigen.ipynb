{
 "cells": [
  {
   "cell_type": "code",
   "execution_count": 17,
   "metadata": {
    "collapsed": false
   },
   "outputs": [
    {
     "name": "stdout",
     "output_type": "stream",
     "text": [
      "a= [[5 8]\n",
      " [2 1]\n",
      " [6 7]]\n",
      "b= [[5 8 3]\n",
      " [2 1 9]]\n"
     ]
    },
    {
     "data": {
      "text/plain": [
       "array([[41, 48, 87],\n",
       "       [12, 17, 15],\n",
       "       [44, 55, 81]])"
      ]
     },
     "execution_count": 17,
     "metadata": {},
     "output_type": "execute_result"
    }
   ],
   "source": [
    "# Use numpy arrays\n",
    "import numpy as np\n",
    "\n",
    "a = np.array([[5,8], [2,1],[6,7]])\n",
    "print(\"a=\",a)\n",
    "b = np.array([[5,8,3],[2,1,9]])\n",
    "print(\"b=\",b)\n",
    "np.dot(a,b)"
   ]
  },
  {
   "cell_type": "code",
   "execution_count": 47,
   "metadata": {
    "collapsed": false
   },
   "outputs": [
    {
     "name": "stdout",
     "output_type": "stream",
     "text": [
      "Eigenvalues:  [ 0.  5.]\n",
      "Eigenvectors:  [-0.4472136  -0.89442719]\n",
      "Eigenvector:  [-0.89442719  0.4472136 ]\n",
      "[-0.  0.]\n",
      "Eigenvector:  [-0.4472136  -0.89442719]\n",
      "[ 5.  5.]\n"
     ]
    }
   ],
   "source": [
    "c = np.array([[1,2], [2,4]])\n",
    "eigenvals,eigenvecs=np.linalg.eig(c)\n",
    "print(\"Eigenvalues: \",eigenvals)\n",
    "print(\"Eigenvectors: \",eigenvecs[:,1])\n",
    "for i in range(eigenvals.shape[0]):\n",
    "    print(\"Eigenvector: \",eigenvecs[:,i])\n",
    "    print(np.dot(c,eigenvecs[:,i])/eigenvecs[:,i])"
   ]
  },
  {
   "cell_type": "code",
   "execution_count": 41,
   "metadata": {
    "collapsed": false
   },
   "outputs": [
    {
     "data": {
      "text/plain": [
       "2"
      ]
     },
     "execution_count": 41,
     "metadata": {},
     "output_type": "execute_result"
    }
   ],
   "source": []
  },
  {
   "cell_type": "code",
   "execution_count": null,
   "metadata": {
    "collapsed": true
   },
   "outputs": [],
   "source": []
  }
 ],
 "metadata": {
  "kernelspec": {
   "display_name": "Python 3",
   "language": "python",
   "name": "python3"
  },
  "language_info": {
   "codemirror_mode": {
    "name": "ipython",
    "version": 3
   },
   "file_extension": ".py",
   "mimetype": "text/x-python",
   "name": "python",
   "nbconvert_exporter": "python",
   "pygments_lexer": "ipython3",
   "version": "3.4.3+"
  }
 },
 "nbformat": 4,
 "nbformat_minor": 0
}
